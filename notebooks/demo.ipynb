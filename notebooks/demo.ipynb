{
 "cells": [
  {
   "cell_type": "markdown",
   "metadata": {},
   "source": [
    "# Demonstration Notebook\n",
    "## Improvise melody based on learned musical style\n",
    "\n",
    "By Ben Walsh \\\n",
    "For Liloquy\n",
    "\n",
    "&copy; 2021 Ben Walsh <ben@liloquy.io>\n",
    "\n",
    "## Contents\n",
    "\n",
    "1. [Import Libraries](#lib_import)\n",
    "1. [Define Model](#model_define)\n",
    "1. [Test Model](#model_test)"
   ]
  },
  {
   "cell_type": "markdown",
   "metadata": {},
   "source": [
    "## <a id = \"lib_import\"></a>1. Import Libraries"
   ]
  },
  {
   "cell_type": "code",
   "execution_count": 32,
   "metadata": {},
   "outputs": [],
   "source": [
    "import numpy as np\n",
    "\n",
    "from pomegranate import State, HiddenMarkovModel, DiscreteDistribution"
   ]
  },
  {
   "cell_type": "markdown",
   "metadata": {},
   "source": [
    "## <a id = \"model_define\"></a>2. Define Model"
   ]
  },
  {
   "cell_type": "markdown",
   "metadata": {},
   "source": [
    "### Define (placeholder) initial note distributions for two genres"
   ]
  },
  {
   "cell_type": "code",
   "execution_count": 33,
   "metadata": {},
   "outputs": [],
   "source": [
    "note_distro = {}\n",
    "note_distro['major'] = {\n",
    "    'C4': 0.3,\n",
    "    'D4': 0.1,\n",
    "    'E4': 0.2,\n",
    "    'F4': 0.05,\n",
    "    'G4': 0.2,\n",
    "    'A4': 0.1,\n",
    "    'B4': 0.05\n",
    "}\n",
    "\n",
    "note_distro['minor'] = {\n",
    "    'C4': 0.2,\n",
    "    'D4': 0.1,\n",
    "    'E4': 0.2,\n",
    "    'F4': 0.05,\n",
    "    'G4': 0.1,\n",
    "    'A4': 0.3,\n",
    "    'B4': 0.05\n",
    "}"
   ]
  },
  {
   "cell_type": "code",
   "execution_count": 34,
   "metadata": {},
   "outputs": [
    {
     "data": {
      "text/plain": [
       "{'major': {'C4': 0.3,\n",
       "  'D4': 0.1,\n",
       "  'E4': 0.2,\n",
       "  'F4': 0.05,\n",
       "  'G4': 0.2,\n",
       "  'A4': 0.1,\n",
       "  'B4': 0.05},\n",
       " 'minor': {'C4': 0.2,\n",
       "  'D4': 0.1,\n",
       "  'E4': 0.2,\n",
       "  'F4': 0.05,\n",
       "  'G4': 0.1,\n",
       "  'A4': 0.3,\n",
       "  'B4': 0.05}}"
      ]
     },
     "execution_count": 34,
     "metadata": {},
     "output_type": "execute_result"
    }
   ],
   "source": [
    "note_distro"
   ]
  },
  {
   "cell_type": "code",
   "execution_count": 37,
   "metadata": {},
   "outputs": [],
   "source": [
    "genre_distro_start = {}\n",
    "genre_distro_start = {\n",
    "    'major': 0.5,\n",
    "    'minor': 0.5\n",
    "}\n",
    "\n",
    "genre_distro_end = {}\n",
    "genre_distro_end = {\n",
    "    'major': 0.5,\n",
    "    'minor': 0.5\n",
    "}\n",
    "\n",
    "genre_distro_trans = {\n",
    "    ('major', 'major'): 0.9,\n",
    "    ('major', 'minor'): 0.1,\n",
    "    ('minor', 'major'): 0.2,\n",
    "    ('minor', 'minor'): 0.8,\n",
    "}"
   ]
  },
  {
   "cell_type": "markdown",
   "metadata": {},
   "source": [
    "### Define Hidden Markov Model using Pomegranate"
   ]
  },
  {
   "cell_type": "code",
   "execution_count": 42,
   "metadata": {},
   "outputs": [],
   "source": [
    "# Initialize model\n",
    "hmm_model = HiddenMarkovModel(name=\"hmm-note-transitions\")\n",
    "\n",
    "# Initialize the states in the HMM\n",
    "states = {}\n",
    "\n",
    "# Add initial distributions\n",
    "for genre in note_distro.keys():\n",
    "    \n",
    "    # Ensure normalization\n",
    "    sum_values = sum(note_distro[genre].values())\n",
    "    for k, v in note_distro[genre].items():\n",
    "        note_distro[genre].update({k:v/sum_values})\n",
    "    \n",
    "    # Define HMM state for genre\n",
    "    states[genre] = State(DiscreteDistribution(note_distro[genre]), name=genre)\n",
    "    \n",
    "    # Add state to hmm_model\n",
    "    hmm_model.add_states(states[genre])\n",
    "\n",
    "# Add starting genre distributions\n",
    "for genre in note_distro.keys():\n",
    "    hmm_model.add_transition(hmm_model.start, states[genre], genre_distro_start[genre])\n",
    "\n",
    "# Add ending note distributions\n",
    "for genre in note_distro.keys():\n",
    "    hmm_model.add_transition(states[genre], hmm_model.end, genre_distro_end[genre])\n",
    "\n",
    "for (genre1, genre2) in genre_distro_trans.keys():\n",
    "    hmm_model.add_transition(states[genre1], states[genre2], genre_distro_trans[(genre1, genre2)])\n",
    "\n",
    "hmm_model.bake()"
   ]
  },
  {
   "cell_type": "markdown",
   "metadata": {},
   "source": [
    "## <a id = \"model_test\"></a>3. Test Model "
   ]
  },
  {
   "cell_type": "markdown",
   "metadata": {},
   "source": [
    "### Predict genre on input melodies"
   ]
  },
  {
   "cell_type": "code",
   "execution_count": 50,
   "metadata": {},
   "outputs": [
    {
     "data": {
      "text/plain": [
       "['major', 'major', 'major', 'major', 'major', 'major']"
      ]
     },
     "execution_count": 50,
     "metadata": {},
     "output_type": "execute_result"
    }
   ],
   "source": [
    "major_seq = ('C4', 'E4', 'G4', 'C4', 'E4', 'G4')\n",
    "[hmm_model.states[genre].name for genre in hmm_model.predict(major_seq)]"
   ]
  },
  {
   "cell_type": "code",
   "execution_count": 53,
   "metadata": {},
   "outputs": [
    {
     "data": {
      "text/plain": [
       "['minor', 'minor', 'minor', 'minor', 'minor', 'minor', 'minor']"
      ]
     },
     "execution_count": 53,
     "metadata": {},
     "output_type": "execute_result"
    }
   ],
   "source": [
    "minor_seq = ('A4', 'C4', 'E4', 'A4', 'C4', 'E4', 'A4')\n",
    "[hmm_model.states[genre].name for genre in hmm_model.predict(minor_seq)]"
   ]
  },
  {
   "cell_type": "code",
   "execution_count": null,
   "metadata": {},
   "outputs": [],
   "source": []
  }
 ],
 "metadata": {
  "kernelspec": {
   "display_name": "Python 3",
   "language": "python",
   "name": "python3"
  },
  "language_info": {
   "codemirror_mode": {
    "name": "ipython",
    "version": 3
   },
   "file_extension": ".py",
   "mimetype": "text/x-python",
   "name": "python",
   "nbconvert_exporter": "python",
   "pygments_lexer": "ipython3",
   "version": "3.6.12"
  }
 },
 "nbformat": 4,
 "nbformat_minor": 4
}
